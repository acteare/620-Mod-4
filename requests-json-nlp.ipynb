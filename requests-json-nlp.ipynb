{
 "cells": [
  {
   "cell_type": "markdown",
   "metadata": {},
   "source": [
    "# Web Mining and Applied NLP (44-620)\n",
    "\n",
    "## Requests, JSON, and NLP\n",
    "\n",
    "### Student Name: Amelia Teare https://github.com/acteare/620-Mod-4\n",
    "\n",
    "Perform the tasks described in the Markdown cells below.  When you have completed the assignment make sure your code cells have all been run (and have output beneath them) and ensure you have committed and pushed ALL of your changes to your assignment repository.\n",
    "\n",
    "Make sure you have [installed spaCy and its pipeline](https://spacy.io/usage#quickstart) and [spaCyTextBlob](https://spacy.io/universe/project/spacy-textblob)\n",
    "\n",
    "Every question that requires you to write code will have a code cell underneath it; you may either write your entire solution in that cell or write it in a python file (`.py`), then import and run the appropriate code to answer the question.\n",
    "\n",
    "This assignment requires that you write additional files (either JSON or pickle files); make sure to submit those files in your repository as well."
   ]
  },
  {
   "cell_type": "markdown",
   "metadata": {},
   "source": [
    "1. The following code accesses the [lyrics.ovh](https://lyricsovh.docs.apiary.io/#reference/0/lyrics-of-a-song/search) public api, searches for the lyrics of a song, and stores it in a dictionary object.  Write the resulting json to a file (either a JSON file or a pickle file; you choose). You will read in the contents of this file for future questions so we do not need to frequently access the API."
   ]
  },
  {
   "cell_type": "markdown",
   "metadata": {},
   "source": [
    "## Question 1"
   ]
  },
  {
   "cell_type": "code",
   "execution_count": 42,
   "metadata": {},
   "outputs": [
    {
     "name": "stdout",
     "output_type": "stream",
     "text": [
      "Searching for songs by Andy Shauf...\n",
      "\n",
      "Song 1: \"Alexander All Alone\"\n",
      "Song 2: \"All Of My Love\"\n",
      "Song 3: \"All the Same\"\n",
      "\n",
      "Reached user-specified song limit (3).\n",
      "Done. Found 3 songs.\n",
      "Wrote All Of My Love.json.\n"
     ]
    }
   ],
   "source": [
    "import lyricsgenius\n",
    "genius = lyricsgenius.Genius('JtUijw8YGNAomnidRH7gq11zP74lZjoR3lt6LRH2D_8xhk-qcT-SYbsPa8et4zpd')\n",
    "\n",
    "artist = genius.search_artist(\"Andy Shauf\", max_songs=3, sort=\"title\")\n",
    "song = artist.song(\"All Of My Love\")\n",
    "artist.save_lyrics(\"All Of My Love\")"
   ]
  },
  {
   "cell_type": "markdown",
   "metadata": {},
   "source": [
    "2. Read in the contents of your file.  Print the lyrics of the song (not the entire dictionary!) and use spaCyTextBlob to perform sentiment analysis on the lyrics.  Print the polarity score of the sentiment analysis.  Given that the range of the polarity score is `[-1.0,1.0]` which corresponds to how positive or negative the text in question is, do you think the lyrics have a more positive or negative connotaion?  Answer this question in a comment in your code cell."
   ]
  },
  {
   "cell_type": "markdown",
   "metadata": {},
   "source": [
    "## Question 2"
   ]
  },
  {
   "cell_type": "code",
   "execution_count": 1,
   "metadata": {},
   "outputs": [
    {
     "name": "stdout",
     "output_type": "stream",
     "text": [
      "The greenest grass you'll ever see\n",
      "Lies silent on the earth\n",
      "Where I could never be\n",
      "And the brightest sun that's ever shined\n",
      "As you walk away\n",
      "It dances there behind, or so I find\n",
      "But it's all the same anyway\n",
      "\n",
      "I'll hold you in the setting sun\n",
      "Would that be boring\n",
      "Would it be any fun for you\n",
      "Maybe I could fix your pain\n",
      "But what is life if it's always sunny\n",
      "If there's never any rain\n",
      "If it's all the same anyway, then it's all the same anyway\n",
      "\n",
      "You are the mittens to my coldest hands\n",
      "The purest rain to the driest lands\n",
      "A brand new friend on a lonely day\n",
      "Most beautiful girl I'd have to say\n",
      "Please be mine on this very night\n",
      "Hands are shaking, knees not quite\n",
      "It's all the same anyway, well maybe it was but not today\n",
      "\n",
      "Stay with me this little while because all I know is you make me smile\n"
     ]
    },
    {
     "data": {
      "text/plain": [
       "0.03992424242424243"
      ]
     },
     "execution_count": 1,
     "metadata": {},
     "output_type": "execute_result"
    }
   ],
   "source": [
    "import json\n",
    "import spacy\n",
    "from spacytextblob.spacytextblob import SpacyTextBlob\n",
    "\n",
    "nlp=spacy.load('en_core_web_sm')\n",
    "nlp.add_pipe('spacytextblob')\n",
    "\n",
    "with open('All Of My Love 1.json', 'r') as f:\n",
    "    data = json.load(f)\n",
    "\n",
    "print(data)\n",
    "doc = nlp(data)\n",
    "\n",
    "doc._.blob.polarity "
   ]
  },
  {
   "cell_type": "code",
   "execution_count": null,
   "metadata": {},
   "outputs": [],
   "source": [
    "#the polarity score is 0.399. This indicates that the lyrics have a more positive connotation because the score is on the higher end of the range."
   ]
  },
  {
   "cell_type": "markdown",
   "metadata": {},
   "source": [
    "3. Write a function that takes an artist, song, and filename, accesses the lyrics.ovh api to get the song lyrics, and writes the results to the specified filename.  Test this function by getting the lyrics to any four songs of your choice and storing them in different files."
   ]
  },
  {
   "cell_type": "markdown",
   "metadata": {},
   "source": [
    "## Question 3"
   ]
  },
  {
   "cell_type": "code",
   "execution_count": 2,
   "metadata": {},
   "outputs": [
    {
     "name": "stdout",
     "output_type": "stream",
     "text": [
      "Searching for songs by Queen...\n",
      "\n",
      "Song 1: \"Bohemian Rhapsody\"\n",
      "\n",
      "Reached user-specified song limit (1).\n",
      "Done. Found 1 songs.\n",
      "Searching for \"Killer Queen\" by Queen...\n",
      "Done.\n",
      "Searching for songs by ABBA...\n",
      "\n",
      "Song 1: \"Mamma Mia\"\n",
      "\n",
      "Reached user-specified song limit (1).\n",
      "Done. Found 1 songs.\n",
      "Searching for songs by Journey...\n",
      "\n",
      "Song 1: \"Don’t Stop Believin’\"\n",
      "\n",
      "Reached user-specified song limit (1).\n",
      "Done. Found 1 songs.\n",
      "Searching for \"Faithfully\" by Journey...\n",
      "Done.\n",
      "Searching for songs by Styx...\n",
      "\n",
      "Song 1: \"Renegade\"\n",
      "\n",
      "Reached user-specified song limit (1).\n",
      "Done. Found 1 songs.\n",
      "Searching for \"Lady\" by Styx...\n",
      "Done.\n"
     ]
    }
   ],
   "source": [
    "import lyricsgenius\n",
    "import json\n",
    "import os\n",
    "\n",
    "def get_song_lyrics(artist, song, filename):\n",
    "    access_token = '6wkG206P0FgF5A4OcBd5LbeG5hxNCQbkGLhKuEB_7Y2iV1jTZT1PckgANAEfPdXk'\n",
    "    genius = lyricsgenius.Genius(access_token)\n",
    "    artist = genius.search_artist(artist, max_songs=1, get_full_info=False)\n",
    "    song = artist.song(song)\n",
    "    with open(filename+\"_lyrics.json\", 'w') as filename:\n",
    "        json.dump(song.lyrics, filename)\n",
    "\n",
    "get_song_lyrics(\"Queen\", \"Killer Queen\", \"Queen_killerqueen\")\n",
    "get_song_lyrics(\"ABBA\", \"Mamma Mia\", \"ABBA_mammamia\")\n",
    "get_song_lyrics(\"Journey\", \"Faithfully\", \"Journey_faithfully\")\n",
    "get_song_lyrics(\"Styx\", \"Lady\", \"Styx_lady\")"
   ]
  },
  {
   "cell_type": "markdown",
   "metadata": {},
   "source": [
    "4. Write a function that takes the name of a file that contains song lyrics, loads the file, performs sentiment analysis, and returns the polarity score.  Use this function to print the polarity scores (with the name of the song) of the three files you created in question 3.  Does the reported polarity match your understanding of the song's lyrics? Why or why not do you think that might be?  Answer the questions in either a comment in the code cell or a markdown cell under the code cell."
   ]
  },
  {
   "cell_type": "markdown",
   "metadata": {},
   "source": [
    "## Question 4"
   ]
  },
  {
   "cell_type": "code",
   "execution_count": 4,
   "metadata": {},
   "outputs": [
    {
     "name": "stdout",
     "output_type": "stream",
     "text": [
      "Polarity of ABBA_mammamia_lyrics.json: 0.03946078431372548\n",
      "Polarity of Journey_faithfully_lyrics.json: 0.27634920634920634\n",
      "Polarity of Queen_killerqueen_lyrics.json: 0.14444444444444446\n",
      "Polarity of Styx_lady_lyrics.json: 0.23402777777777778\n"
     ]
    }
   ],
   "source": [
    "import json\n",
    "import spacy\n",
    "from spacytextblob.spacytextblob import SpacyTextBlob\n",
    "\n",
    "def lyric_polarity (filename):\n",
    "    nlp=spacy.load('en_core_web_sm')\n",
    "    nlp.add_pipe('spacytextblob')\n",
    "    with open(filename, 'r') as f:\n",
    "        data = json.load(f)\n",
    "    doc = nlp(data)\n",
    "    polarity = doc._.blob.polarity \n",
    "\n",
    "    print(f\"Polarity of {filename}: {polarity}\")\n",
    "\n",
    "lyric_polarity(\"ABBA_mammamia_lyrics.json\")\n",
    "lyric_polarity(\"Journey_faithfully_lyrics.json\")\n",
    "lyric_polarity(\"Queen_killerqueen_lyrics.json\")\n",
    "lyric_polarity(\"Styx_lady_lyrics.json\")"
   ]
  },
  {
   "cell_type": "markdown",
   "metadata": {},
   "source": [
    "#### From what I know of these songs, the polarity DOES match the song lyrics. For example, while Mamma Mia might be considered a happy song due to its upbeat nature, the lyrics talk about heartbreak and going through that again. But the overall message of the song is positive which is why the polarity score, as low as it is, is still greater than 0. "
   ]
  },
  {
   "cell_type": "code",
   "execution_count": null,
   "metadata": {},
   "outputs": [],
   "source": []
  }
 ],
 "metadata": {
  "kernelspec": {
   "display_name": "Python 3 (ipykernel)",
   "language": "python",
   "name": "python3"
  },
  "language_info": {
   "codemirror_mode": {
    "name": "ipython",
    "version": 3
   },
   "file_extension": ".py",
   "mimetype": "text/x-python",
   "name": "python",
   "nbconvert_exporter": "python",
   "pygments_lexer": "ipython3",
   "version": "3.11.4"
  }
 },
 "nbformat": 4,
 "nbformat_minor": 4
}
